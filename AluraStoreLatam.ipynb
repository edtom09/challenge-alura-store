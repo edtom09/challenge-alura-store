{
  "cells": [
    {
      "cell_type": "markdown",
      "metadata": {
        "id": "RhEdWd9YUR6H"
      },
      "source": [
        "### Importación de datos\n",
        "\n"
      ]
    },
    {
      "cell_type": "code",
      "execution_count": 9,
      "metadata": {
        "colab": {
          "base_uri": "https://localhost:8080/",
          "height": 206
        },
        "id": "T3EvaeQ_INIL",
        "outputId": "e9c5efe1-82a3-43ab-e8d7-6d01e4fa3514"
      },
      "outputs": [
        {
          "name": "stdout",
          "output_type": "stream",
          "text": [
            "Requirement already satisfied: matplotlib in c:\\users\\edtom\\appdata\\local\\packages\\pythonsoftwarefoundation.python.3.11_qbz5n2kfra8p0\\localcache\\local-packages\\python311\\site-packages (3.10.1)\n",
            "Requirement already satisfied: contourpy>=1.0.1 in c:\\users\\edtom\\appdata\\local\\packages\\pythonsoftwarefoundation.python.3.11_qbz5n2kfra8p0\\localcache\\local-packages\\python311\\site-packages (from matplotlib) (1.3.2)\n",
            "Requirement already satisfied: cycler>=0.10 in c:\\users\\edtom\\appdata\\local\\packages\\pythonsoftwarefoundation.python.3.11_qbz5n2kfra8p0\\localcache\\local-packages\\python311\\site-packages (from matplotlib) (0.12.1)\n",
            "Requirement already satisfied: fonttools>=4.22.0 in c:\\users\\edtom\\appdata\\local\\packages\\pythonsoftwarefoundation.python.3.11_qbz5n2kfra8p0\\localcache\\local-packages\\python311\\site-packages (from matplotlib) (4.57.0)\n",
            "Requirement already satisfied: kiwisolver>=1.3.1 in c:\\users\\edtom\\appdata\\local\\packages\\pythonsoftwarefoundation.python.3.11_qbz5n2kfra8p0\\localcache\\local-packages\\python311\\site-packages (from matplotlib) (1.4.8)\n",
            "Requirement already satisfied: numpy>=1.23 in c:\\users\\edtom\\appdata\\local\\packages\\pythonsoftwarefoundation.python.3.11_qbz5n2kfra8p0\\localcache\\local-packages\\python311\\site-packages (from matplotlib) (1.24.2)\n",
            "Requirement already satisfied: packaging>=20.0 in c:\\users\\edtom\\appdata\\local\\packages\\pythonsoftwarefoundation.python.3.11_qbz5n2kfra8p0\\localcache\\local-packages\\python311\\site-packages (from matplotlib) (23.0)\n",
            "Requirement already satisfied: pillow>=8 in c:\\users\\edtom\\appdata\\local\\packages\\pythonsoftwarefoundation.python.3.11_qbz5n2kfra8p0\\localcache\\local-packages\\python311\\site-packages (from matplotlib) (11.2.1)\n",
            "Requirement already satisfied: pyparsing>=2.3.1 in c:\\users\\edtom\\appdata\\local\\packages\\pythonsoftwarefoundation.python.3.11_qbz5n2kfra8p0\\localcache\\local-packages\\python311\\site-packages (from matplotlib) (3.2.3)\n",
            "Requirement already satisfied: python-dateutil>=2.7 in c:\\users\\edtom\\appdata\\local\\packages\\pythonsoftwarefoundation.python.3.11_qbz5n2kfra8p0\\localcache\\local-packages\\python311\\site-packages (from matplotlib) (2.8.2)\n",
            "Requirement already satisfied: six>=1.5 in c:\\users\\edtom\\appdata\\local\\packages\\pythonsoftwarefoundation.python.3.11_qbz5n2kfra8p0\\localcache\\local-packages\\python311\\site-packages (from python-dateutil>=2.7->matplotlib) (1.16.0)\n",
            "Note: you may need to restart the kernel to use updated packages.\n"
          ]
        },
        {
          "name": "stderr",
          "output_type": "stream",
          "text": [
            "\n",
            "[notice] A new release of pip is available: 24.0 -> 25.1.1\n",
            "[notice] To update, run: C:\\Users\\edtom\\AppData\\Local\\Microsoft\\WindowsApps\\PythonSoftwareFoundation.Python.3.11_qbz5n2kfra8p0\\python.exe -m pip install --upgrade pip\n"
          ]
        },
        {
          "data": {
            "text/html": [
              "<div>\n",
              "<style scoped>\n",
              "    .dataframe tbody tr th:only-of-type {\n",
              "        vertical-align: middle;\n",
              "    }\n",
              "\n",
              "    .dataframe tbody tr th {\n",
              "        vertical-align: top;\n",
              "    }\n",
              "\n",
              "    .dataframe thead th {\n",
              "        text-align: right;\n",
              "    }\n",
              "</style>\n",
              "<table border=\"1\" class=\"dataframe\">\n",
              "  <thead>\n",
              "    <tr style=\"text-align: right;\">\n",
              "      <th></th>\n",
              "      <th>Producto</th>\n",
              "      <th>Categoría del Producto</th>\n",
              "      <th>Precio</th>\n",
              "      <th>Costo de envío</th>\n",
              "      <th>Fecha de Compra</th>\n",
              "      <th>Vendedor</th>\n",
              "      <th>Lugar de Compra</th>\n",
              "      <th>Calificación</th>\n",
              "      <th>Método de pago</th>\n",
              "      <th>Cantidad de cuotas</th>\n",
              "      <th>lat</th>\n",
              "      <th>lon</th>\n",
              "    </tr>\n",
              "  </thead>\n",
              "  <tbody>\n",
              "    <tr>\n",
              "      <th>0</th>\n",
              "      <td>Asistente virtual</td>\n",
              "      <td>Electrónicos</td>\n",
              "      <td>164300.0</td>\n",
              "      <td>6900.0</td>\n",
              "      <td>16/01/2021</td>\n",
              "      <td>Pedro Gomez</td>\n",
              "      <td>Bogotá</td>\n",
              "      <td>4</td>\n",
              "      <td>Tarjeta de crédito</td>\n",
              "      <td>8</td>\n",
              "      <td>4.60971</td>\n",
              "      <td>-74.08175</td>\n",
              "    </tr>\n",
              "    <tr>\n",
              "      <th>1</th>\n",
              "      <td>Mesa de comedor</td>\n",
              "      <td>Muebles</td>\n",
              "      <td>192300.0</td>\n",
              "      <td>8400.0</td>\n",
              "      <td>18/05/2022</td>\n",
              "      <td>Beatriz Morales</td>\n",
              "      <td>Medellín</td>\n",
              "      <td>1</td>\n",
              "      <td>Tarjeta de crédito</td>\n",
              "      <td>4</td>\n",
              "      <td>6.25184</td>\n",
              "      <td>-75.56359</td>\n",
              "    </tr>\n",
              "    <tr>\n",
              "      <th>2</th>\n",
              "      <td>Juego de mesa</td>\n",
              "      <td>Juguetes</td>\n",
              "      <td>209600.0</td>\n",
              "      <td>15900.0</td>\n",
              "      <td>15/03/2021</td>\n",
              "      <td>Juan Fernandez</td>\n",
              "      <td>Cartagena</td>\n",
              "      <td>1</td>\n",
              "      <td>Tarjeta de crédito</td>\n",
              "      <td>1</td>\n",
              "      <td>10.39972</td>\n",
              "      <td>-75.51444</td>\n",
              "    </tr>\n",
              "    <tr>\n",
              "      <th>3</th>\n",
              "      <td>Microondas</td>\n",
              "      <td>Electrodomésticos</td>\n",
              "      <td>757500.0</td>\n",
              "      <td>41000.0</td>\n",
              "      <td>03/05/2022</td>\n",
              "      <td>Juan Fernandez</td>\n",
              "      <td>Cali</td>\n",
              "      <td>4</td>\n",
              "      <td>Nequi</td>\n",
              "      <td>1</td>\n",
              "      <td>3.43722</td>\n",
              "      <td>-76.52250</td>\n",
              "    </tr>\n",
              "    <tr>\n",
              "      <th>4</th>\n",
              "      <td>Silla de oficina</td>\n",
              "      <td>Muebles</td>\n",
              "      <td>335200.0</td>\n",
              "      <td>20200.0</td>\n",
              "      <td>07/11/2020</td>\n",
              "      <td>Maria Alfonso</td>\n",
              "      <td>Medellín</td>\n",
              "      <td>5</td>\n",
              "      <td>Nequi</td>\n",
              "      <td>1</td>\n",
              "      <td>6.25184</td>\n",
              "      <td>-75.56359</td>\n",
              "    </tr>\n",
              "  </tbody>\n",
              "</table>\n",
              "</div>"
            ],
            "text/plain": [
              "            Producto Categoría del Producto    Precio  Costo de envío  \\\n",
              "0  Asistente virtual           Electrónicos  164300.0          6900.0   \n",
              "1    Mesa de comedor                Muebles  192300.0          8400.0   \n",
              "2      Juego de mesa               Juguetes  209600.0         15900.0   \n",
              "3         Microondas      Electrodomésticos  757500.0         41000.0   \n",
              "4   Silla de oficina                Muebles  335200.0         20200.0   \n",
              "\n",
              "  Fecha de Compra         Vendedor Lugar de Compra  Calificación  \\\n",
              "0      16/01/2021      Pedro Gomez          Bogotá             4   \n",
              "1      18/05/2022  Beatriz Morales        Medellín             1   \n",
              "2      15/03/2021   Juan Fernandez       Cartagena             1   \n",
              "3      03/05/2022   Juan Fernandez            Cali             4   \n",
              "4      07/11/2020    Maria Alfonso        Medellín             5   \n",
              "\n",
              "       Método de pago  Cantidad de cuotas       lat       lon  \n",
              "0  Tarjeta de crédito                   8   4.60971 -74.08175  \n",
              "1  Tarjeta de crédito                   4   6.25184 -75.56359  \n",
              "2  Tarjeta de crédito                   1  10.39972 -75.51444  \n",
              "3               Nequi                   1   3.43722 -76.52250  \n",
              "4               Nequi                   1   6.25184 -75.56359  "
            ]
          },
          "execution_count": 9,
          "metadata": {},
          "output_type": "execute_result"
        }
      ],
      "source": [
        "import pandas as pd\n",
        "%pip install matplotlib\n",
        "import matplotlib.pyplot as plt\n",
        "\n",
        "\n",
        "\n",
        "url = \"https://raw.githubusercontent.com/alura-es-cursos/challenge1-data-science-latam/refs/heads/main/base-de-datos-challenge1-latam/tienda_1%20.csv\"\n",
        "url2 = \"https://raw.githubusercontent.com/alura-es-cursos/challenge1-data-science-latam/refs/heads/main/base-de-datos-challenge1-latam/tienda_2.csv\"\n",
        "url3 = \"https://raw.githubusercontent.com/alura-es-cursos/challenge1-data-science-latam/refs/heads/main/base-de-datos-challenge1-latam/tienda_3.csv\"\n",
        "url4 = \"https://raw.githubusercontent.com/alura-es-cursos/challenge1-data-science-latam/refs/heads/main/base-de-datos-challenge1-latam/tienda_4.csv\"\n",
        "\n",
        "tienda = pd.read_csv(url)\n",
        "tienda2 = pd.read_csv(url2)\n",
        "tienda3 = pd.read_csv(url3)\n",
        "tienda4 = pd.read_csv(url4)\n",
        "\n",
        "\n",
        "tienda.head()"
      ]
    },
    {
      "cell_type": "markdown",
      "metadata": {},
      "source": [
        "# 0. Exploración de datos"
      ]
    },
    {
      "cell_type": "markdown",
      "metadata": {},
      "source": [
        "El conjunto de datos incluye la siguiente información:\n",
        "\n",
        "* **Producto y Categoría:** Artículos vendidos y sus calificaciones.\n",
        "* **Precio y Envío:** Valores de venta y costos asociados.\n",
        "* **Fecha y ubicación de compra:** Información temporal y geográfica.\n",
        "* **Evaluación de compra:** Comentarios de clientes.\n",
        "* **Tipo de Pago y Cuotas:** Métodos utilizados por los clientes.\n",
        "* **Coordenadas Geográficas:** Ubicación de las transacciones.\n",
        "\n",
        "Podemos observar que todos los archivos incluyen las mismas columnas en el siguiente código, también resalta que todos, a exepción de la tienda 4, tienen el mismo número de filas. "
      ]
    },
    {
      "cell_type": "code",
      "execution_count": 14,
      "metadata": {},
      "outputs": [
        {
          "name": "stdout",
          "output_type": "stream",
          "text": [
            "Tienda 2: columnas iguales a la tienda 1 ✅\n",
            "Tienda 3: columnas iguales a la tienda 1 ✅\n",
            "Tienda 4: columnas iguales a la tienda 1 ✅\n"
          ]
        }
      ],
      "source": [
        "# creamos una lista con las tiendas \n",
        "tiendas = [tienda, tienda2, tienda3, tienda4] \n",
        "\n",
        "# obtenemos el nombre de las columnas de la primer tienda para usarla como referencia\n",
        "columnas_referencia = set(tiendas[0].columns)\n",
        "\n",
        "# verificamos si las demás tiendas tienen la misma columan\n",
        "for i, df in enumerate(tiendas[1:], start=2):\n",
        "    columnas_actual = set(df.columns)\n",
        "    if columnas_actual == columnas_referencia:\n",
        "        print(f'Tienda {i}: columnas iguales a la tienda 1 ✅')\n",
        "    else:\n",
        "        print(f'Tienda {i}: columnas diferentes a la tienda 1 ❌')\n",
        "        print(f\"Diferencias: {columnas_referencia.symmetric_difference(columnas_actual)}\") #muestrá que columnas son diferentes\n",
        "        \n"
      ]
    },
    {
      "cell_type": "code",
      "execution_count": null,
      "metadata": {},
      "outputs": [
        {
          "name": "stdout",
          "output_type": "stream",
          "text": [
            "Tienda 1: 2359 filas, 12 columnas\n",
            "Tienda 2: 2359 filas, 12 columnas\n",
            "Tienda 3: 2359 filas, 12 columnas\n",
            "Tienda 4: 2358 filas, 12 columnas\n"
          ]
        }
      ],
      "source": [
        "#recuento de filas y columnas\n",
        "for i, df in enumerate(tiendas, start=1):\n",
        "    filas, columnas = df.shape\n",
        "    print(f\"Tienda {i}: {filas} filas, {columnas} columnas\")"
      ]
    },
    {
      "cell_type": "markdown",
      "metadata": {},
      "source": [
        "Analistando el tipo de datos de cada columna observamos que la columna \"Fecha de Compra\" tiene un tipo de dato \"object\" por lo que se cambiará para su manipulación a un tipo \"datetime\""
      ]
    },
    {
      "cell_type": "code",
      "execution_count": 24,
      "metadata": {},
      "outputs": [
        {
          "name": "stdout",
          "output_type": "stream",
          "text": [
            "<class 'pandas.core.frame.DataFrame'>\n",
            "RangeIndex: 2359 entries, 0 to 2358\n",
            "Data columns (total 12 columns):\n",
            " #   Column                  Non-Null Count  Dtype  \n",
            "---  ------                  --------------  -----  \n",
            " 0   Producto                2359 non-null   object \n",
            " 1   Categoría del Producto  2359 non-null   object \n",
            " 2   Precio                  2359 non-null   float64\n",
            " 3   Costo de envío          2359 non-null   float64\n",
            " 4   Fecha de Compra         2359 non-null   object \n",
            " 5   Vendedor                2359 non-null   object \n",
            " 6   Lugar de Compra         2359 non-null   object \n",
            " 7   Calificación            2359 non-null   int64  \n",
            " 8   Método de pago          2359 non-null   object \n",
            " 9   Cantidad de cuotas      2359 non-null   int64  \n",
            " 10  lat                     2359 non-null   float64\n",
            " 11  lon                     2359 non-null   float64\n",
            "dtypes: float64(4), int64(2), object(6)\n",
            "memory usage: 221.3+ KB\n"
          ]
        }
      ],
      "source": [
        "tienda.info()"
      ]
    },
    {
      "cell_type": "code",
      "execution_count": 32,
      "metadata": {},
      "outputs": [
        {
          "name": "stdout",
          "output_type": "stream",
          "text": [
            "<class 'pandas.core.frame.DataFrame'>\n",
            "RangeIndex: 2358 entries, 0 to 2357\n",
            "Data columns (total 13 columns):\n",
            " #   Column                  Non-Null Count  Dtype         \n",
            "---  ------                  --------------  -----         \n",
            " 0   Producto                2358 non-null   object        \n",
            " 1   Categoría del Producto  2358 non-null   object        \n",
            " 2   Precio                  2358 non-null   float64       \n",
            " 3   Costo de envío          2358 non-null   float64       \n",
            " 4   Fecha de Compra         2358 non-null   datetime64[ns]\n",
            " 5   Vendedor                2358 non-null   object        \n",
            " 6   Lugar de Compra         2358 non-null   object        \n",
            " 7   Calificación            2358 non-null   int64         \n",
            " 8   Método de pago          2358 non-null   object        \n",
            " 9   Cantidad de cuotas      2358 non-null   int64         \n",
            " 10  lat                     2358 non-null   float64       \n",
            " 11  lon                     2358 non-null   float64       \n",
            " 12  fecha                   2358 non-null   datetime64[ns]\n",
            "dtypes: datetime64[ns](2), float64(4), int64(2), object(5)\n",
            "memory usage: 239.6+ KB\n"
          ]
        }
      ],
      "source": [
        "tienda[\"Fecha de Compra\"] = pd.to_datetime(df['Fecha de Compra'], format=\"%d/%m/%Y\")\n",
        "tienda2[\"Fecha de Compra\"] = pd.to_datetime(df['Fecha de Compra'], format=\"%d/%m/%Y\")\n",
        "tienda3[\"Fecha de Compra\"] = pd.to_datetime(df['Fecha de Compra'], format=\"%d/%m/%Y\")\n",
        "tienda4[\"Fecha de Compra\"] = pd.to_datetime(df['Fecha de Compra'], format=\"%d/%m/%Y\")\n",
        "\n",
        "tienda4.info()"
      ]
    },
    {
      "cell_type": "code",
      "execution_count": null,
      "metadata": {},
      "outputs": [
        {
          "name": "stdout",
          "output_type": "stream",
          "text": [
            "2020-01-01 00:00:00\n",
            "2023-03-30 00:00:00\n"
          ]
        }
      ],
      "source": [
        "#Obtenemos los valores mínimos y máximos de fechas para conocer el período de tiempo que abarca.\n",
        "print(tienda[\"Fecha de Compra\"].min())\n",
        "print(tienda[\"Fecha de Compra\"].max())"
      ]
    },
    {
      "cell_type": "markdown",
      "metadata": {
        "id": "X62IW3KFUIYm"
      },
      "source": [
        "# 1. Análisis de facturación\n",
        "\n"
      ]
    },
    {
      "cell_type": "markdown",
      "metadata": {},
      "source": [
        "Obtenemos la suma total de la columna 'Precio':"
      ]
    },
    {
      "cell_type": "code",
      "execution_count": null,
      "metadata": {
        "id": "xykobSftV64I"
      },
      "outputs": [
        {
          "name": "stdout",
          "output_type": "stream",
          "text": [
            "Tinda 1: suma total de \"Precio\" =$1,150,880,400.00\n",
            "Tinda 2: suma total de \"Precio\" =$1,116,343,500.00\n",
            "Tinda 3: suma total de \"Precio\" =$1,098,019,600.00\n",
            "Tinda 4: suma total de \"Precio\" =$1,038,375,700.00\n"
          ]
        }
      ],
      "source": [
        "#Calcular el ingreso total para cada tienda\n",
        "for i, df in enumerate(tiendas, start=1):\n",
        "    suma_precio = df[\"Precio\"].sum()\n",
        "    print(f'Tinda {i}: suma total de \"Precio\" =${suma_precio:,.2f}')\n"
      ]
    },
    {
      "cell_type": "markdown",
      "metadata": {},
      "source": [
        "## Gráfica"
      ]
    },
    {
      "cell_type": "code",
      "execution_count": 82,
      "metadata": {
        "id": "KDyr8E71V3m-"
      },
      "outputs": [
        {
          "data": {
            "image/png": "[encoded data removed]",
            "text/plain": [
              "<Figure size 800x500 with 1 Axes>"
            ]
          },
          "metadata": {},
          "output_type": "display_data"
        }
      ],
      "source": [
        "# Lista de tiendas y nombres\n",
        "nombres_tiendas = ['Tienda 1', 'Tienda 2', 'Tienda 3', 'Tienda 4']\n",
        "sumas = []\n",
        "\n",
        "# Calcular la suma del precio por tienda\n",
        "for df in tiendas:\n",
        "    suma_precio = df[\"Precio\"].sum()\n",
        "    sumas.append(suma_precio)\n",
        "\n",
        "#Creación del gráfico de barras\n",
        "plt.figure(figsize=(8,5))\n",
        "bar_colors=plt.get_cmap('Set2').colors  # Lista de colores\n",
        "plt.bar(nombres_tiendas, sumas, color=bar_colors[:len(nombres_tiendas)])\n",
        "plt.title(\"Ingresos totales por tienda (2020-2023)\", fontsize=14, weight='bold') #Título del gráfico\n",
        "plt.grid(axis='y', linestyle='--', alpha=0.5) #Añade una cuadrícula en el eje y con líneas discontinuas\n",
        "#plt.ylabel(\"Suma de Precio ($)\")\n",
        "plt.xticks(rotation=0)\n",
        "\n",
        "# Añade un límite inferior en el eje y para visualisar mejor la diferencia \n",
        "minimo = min(sumas)\n",
        "ajuste = minimo * 0.95  # empieza un 5% más abajo\n",
        "plt.ylim(ajuste)\n",
        "\n",
        "# Elimina las barras de los bordes\n",
        "for spine in plt.gca().spines.values():\n",
        "    spine.set_visible(False)\n",
        "\n",
        "# Añade etiquetas en las barras\n",
        "for i, valor in enumerate(sumas):\n",
        "    plt.text(i, valor, f\"${valor:,.0f}\", ha='center', va='bottom')\n",
        "\n",
        "plt.tight_layout()\n",
        "plt.show()"
      ]
    },
    {
      "cell_type": "markdown",
      "metadata": {
        "id": "2V_vcAPzWZmR"
      },
      "source": [
        "# 2. Ventas por categoría"
      ]
    },
    {
      "cell_type": "markdown",
      "metadata": {},
      "source": [
        "Se calculará la **cantidad de producto vendido** por **categoría** en cada tienda. \n",
        "\n",
        "El dataframe final se ordena a la tienda 1 ya que fue la más ventas tuvo. "
      ]
    },
    {
      "cell_type": "code",
      "execution_count": 90,
      "metadata": {
        "id": "A34YupIuYhfF"
      },
      "outputs": [
        {
          "name": "stdout",
          "output_type": "stream",
          "text": [
            "    Categoría del Producto  Tienda 1  Tienda 2  Tienda 3  Tienda 4\n",
            "7                  Muebles       465       442       499       480\n",
            "3             Electrónicos       448       422       451       451\n",
            "5                 Juguetes       324       313       315       338\n",
            "2        Electrodomésticos       312       305       278       254\n",
            "1     Deportes y diversión       284       275       277       277\n",
            "4   Instrumentos musicales       182       224       177       170\n",
            "6                   Libros       173       197       185       187\n",
            "0  Artículos para el hogar       171       181       177       201\n"
          ]
        }
      ],
      "source": [
        "# Lista de tiendas y nombres\n",
        "nombres_tiendas = ['Tienda 1', 'Tienda 2', 'Tienda 3', 'Tienda 4']\n",
        "\n",
        "# Lista para almacenar los Dataframes de cada tienda\n",
        "conteo_tienda = []\n",
        "\n",
        "\n",
        "for i, df in enumerate(tiendas, start=1):\n",
        "    #agrupa por la columna 'Categoría del Producto' y cuenta el producto\n",
        "    suma_por_categoria = df.groupby('Categoría del Producto').size().reset_index(name=nombres_tiendas[i-1])\n",
        "    conteo_tienda.append(suma_por_categoria)\n",
        "\n",
        "#concatenación de los dataframes en uno solo, alineado por 'Categoría del Producto'\n",
        "total_conteo_tiendas = pd.concat(conteo_tienda, axis = 1).loc[:,~pd.concat(conteo_tienda, axis=1).columns.duplicated()]\n",
        "\n",
        "# Ordenar los resultados por el conteo de productos en 'Tienda 1' \n",
        "total_conteo_tiendas = total_conteo_tiendas.sort_values(by=nombres_tiendas[0], ascending=False)\n",
        "\n",
        "print(total_conteo_tiendas)\n"
      ]
    },
    {
      "cell_type": "markdown",
      "metadata": {},
      "source": [
        "## Gráfica"
      ]
    },
    {
      "cell_type": "code",
      "execution_count": 102,
      "metadata": {
        "id": "yZR6cOjXYSk1"
      },
      "outputs": [
        {
          "data": {
            "image/png": "[encoded data removed]",
            "text/plain": [
              "<Figure size 1000x600 with 1 Axes>"
            ]
          },
          "metadata": {},
          "output_type": "display_data"
        }
      ],
      "source": [
        "import numpy as np \n",
        "\n",
        "# Lista de tiendas\n",
        "nombres_tiendas = ['Tienda 1', 'Tienda 2', 'Tienda 3', 'Tienda 4']\n",
        "\n",
        "# Creación del gráfico\n",
        "plt.figure(figsize=(10, 6))\n",
        "\n",
        "# Establecer los colores\n",
        "bar_colors = plt.get_cmap('Set2').colors\n",
        "\n",
        "# Obtener las categorías de productos\n",
        "categorias = total_conteo_tiendas['Categoría del Producto']\n",
        "\n",
        "#Conteo por tiendas\n",
        "conteos = total_conteo_tiendas[nombres_tiendas].values\n",
        "\n",
        "# calculamos el total para ordenar\n",
        "total_por_categoria = conteos.sum(axis=1)\n",
        "\n",
        "# ordenamos categorías y conteos\n",
        "indices_ordenaos = np.argsort(total_por_categoria)\n",
        "categorias_ordenadas = categorias[indices_ordenaos]\n",
        "conteos_ordenados= conteos[indices_ordenaos, :]\n",
        "\n",
        "# Establece el ancho de las barras\n",
        "width = 0.8\n",
        "\n",
        "# Iniciamos la variable para la base del apilamiento en la gráfica\n",
        "bottom = np.zeros(len(categorias_ordenadas))\n",
        "\n",
        "# Trazo las barras apiladas para cada tienda\n",
        "for i, tienda in enumerate(nombres_tiendas):\n",
        "    plt.barh(\n",
        "             categorias_ordenadas, \n",
        "             conteos_ordenados[:, i],\n",
        "             height=width, \n",
        "             label=tienda, \n",
        "             color=bar_colors[i],\n",
        "             alpha=0.7, \n",
        "             left=bottom)\n",
        "    bottom += conteos_ordenados[:,i] #incrementamos la base para la siguiente tienda\n",
        "\n",
        "# Títulos\n",
        "plt.title(\"Conteo de Productos Vendidos por Tienda y Categoría\", fontsize=12, weight='bold')\n",
        "plt.xlabel(\"Total de Productos Vendidos\", fontsize=10)\n",
        "plt.ylabel(\"Categorías\", fontsize=10)\n",
        "\n",
        "# Agregar leyenda\n",
        "plt.legend(title=\"Tienda\", loc=\"upper left\", bbox_to_anchor=(1, 1))\n",
        "\n",
        "# Elimina las barras de los bordes\n",
        "for spine in plt.gca().spines.values():\n",
        "    spine.set_visible(False)\n",
        "\n",
        "# Mostrar el gráfico\n",
        "plt.tight_layout()\n",
        "plt.show()"
      ]
    },
    {
      "cell_type": "markdown",
      "metadata": {
        "id": "Rq6tU_xSY3jk"
      },
      "source": [
        "# 3. Calificación promedio de la tienda\n"
      ]
    },
    {
      "cell_type": "markdown",
      "metadata": {},
      "source": [
        "En este paso, se calculará las **calificaciones promedio** de los clientes para cada tienda. \n",
        "Con el objetivo de conocer la satisfacción del cliente con los productos vendidos. "
      ]
    },
    {
      "cell_type": "code",
      "execution_count": 121,
      "metadata": {
        "id": "bh3jjjJwY5MU"
      },
      "outputs": [
        {
          "name": "stdout",
          "output_type": "stream",
          "text": [
            "Tinda 1: promedio de Calificación\" = 3.98\n",
            "Tinda 2: promedio de Calificación\" = 4.04\n",
            "Tinda 3: promedio de Calificación\" = 4.05\n",
            "Tinda 4: promedio de Calificación\" = 4.00\n"
          ]
        }
      ],
      "source": [
        "#Calcular la calificación promedio  para cada tienda\n",
        "for i, df in enumerate(tiendas, start=1):\n",
        "    calificacion_promedio = df[\"Calificación\"].mean()\n",
        "    print(f'Tinda {i}: promedio de Calificación\" = {calificacion_promedio:,.2f}')"
      ]
    },
    {
      "cell_type": "markdown",
      "metadata": {},
      "source": [
        "## Gráfica"
      ]
    },
    {
      "cell_type": "code",
      "execution_count": 143,
      "metadata": {},
      "outputs": [
        {
          "data": {
            "image/png": "[encoded data removed]",
            "text/plain": [
              "<Figure size 800x500 with 1 Axes>"
            ]
          },
          "metadata": {},
          "output_type": "display_data"
        }
      ],
      "source": [
        "# Lista de tiendas y nombres\n",
        "nombres_tiendas = ['Tienda 1', 'Tienda 2', 'Tienda 3', 'Tienda 4']\n",
        "promedios = []\n",
        "\n",
        "# Calcular el promedio de calificación por tienda\n",
        "for df in tiendas:\n",
        "    promedio_calificacion = df[\"Calificación\"].mean()\n",
        "    promedios.append(promedio_calificacion)\n",
        "\n",
        "#Creación del gráfico de barras\n",
        "plt.figure(figsize=(8,5))\n",
        "bar_colors=plt.get_cmap('Set2').colors  # Lista de colores\n",
        "plt.bar(nombres_tiendas, promedios, color=bar_colors[:len(nombres_tiendas)])\n",
        "plt.title(\"Calificación promedio por tienda\", fontsize=14, weight='bold', y = 1.05) #Título del gráfico\n",
        "#plt.title(\"Calificación Máx: 5 Min: 0\",fontsize=10, style='italic', pad=10)\n",
        "\n",
        "plt.grid(axis='y', linestyle='--', alpha=0.5) #Añade una cuadrícula en el eje y con líneas discontinuas\n",
        "plt.xticks(rotation=0)\n",
        "\n",
        "# Elimina las barras de los bordes\n",
        "for spine in plt.gca().spines.values():\n",
        "    spine.set_visible(False)\n",
        "\n",
        "# Añade etiquetas en las barras\n",
        "for i, valor in enumerate(promedios):\n",
        "    plt.text(i, valor, f\"{valor:.2f}\", ha='center', va='bottom')\n",
        "\n",
        "# Quitmaos el eje y ya que no aporta nada\n",
        "plt.yticks([])\n",
        "\n",
        "# Añade un límite inferior en el eje y para visualisar mejor la diferencia \n",
        "minimo = min(promedios)\n",
        "maximo = max(promedios)\n",
        "ajuste = minimo * 0.99  # empieza un 1% más abajo\n",
        "ajuste_2 = maximo * 1.01 # termina un 1% más arriba\n",
        "plt.ylim(ajuste, ajuste_2)\n",
        "\n",
        "plt.tight_layout()\n",
        "plt.show()\n"
      ]
    },
    {
      "cell_type": "markdown",
      "metadata": {
        "id": "DmNp1KPBZCm-"
      },
      "source": [
        "# 4. Productos más y menos vendidos"
      ]
    },
    {
      "cell_type": "markdown",
      "metadata": {},
      "source": [
        "Identificaremos qué productos fueron los más vendidos y los mendos vendidos en cada tienda. \n",
        "Además de que agregarémos una gráfica para que quede claro qué productos destacaron enn ventas en cada tienda. "
      ]
    },
    {
      "cell_type": "code",
      "execution_count": 164,
      "metadata": {},
      "outputs": [
        {
          "name": "stdout",
          "output_type": "stream",
          "text": [
            "     Tienda           Producto Categoría del Producto    Precio  \\\n",
            "0  Tienda 1  Asistente virtual           Electrónicos  164300.0   \n",
            "1  Tienda 1    Mesa de comedor                Muebles  192300.0   \n",
            "2  Tienda 1      Juego de mesa               Juguetes  209600.0   \n",
            "3  Tienda 1         Microondas      Electrodomésticos  757500.0   \n",
            "4  Tienda 1   Silla de oficina                Muebles  335200.0   \n",
            "\n",
            "   Costo de envío Fecha de Compra         Vendedor Lugar de Compra  \\\n",
            "0          6900.0      16/01/2021      Pedro Gomez          Bogotá   \n",
            "1          8400.0      18/05/2022  Beatriz Morales        Medellín   \n",
            "2         15900.0      15/03/2021   Juan Fernandez       Cartagena   \n",
            "3         41000.0      03/05/2022   Juan Fernandez            Cali   \n",
            "4         20200.0      07/11/2020    Maria Alfonso        Medellín   \n",
            "\n",
            "   Calificación      Método de pago  Cantidad de cuotas       lat       lon  \n",
            "0             4  Tarjeta de crédito                   8   4.60971 -74.08175  \n",
            "1             1  Tarjeta de crédito                   4   6.25184 -75.56359  \n",
            "2             1  Tarjeta de crédito                   1  10.39972 -75.51444  \n",
            "3             4               Nequi                   1   3.43722 -76.52250  \n",
            "4             5               Nequi                   1   6.25184 -75.56359  \n"
          ]
        }
      ],
      "source": [
        "\n",
        "# Agrupamos las url's en un diccionario\n",
        "urls = {\n",
        "    'Tienda 1': \"https://raw.githubusercontent.com/alura-es-cursos/challenge1-data-science-latam/refs/heads/main/base-de-datos-challenge1-latam/tienda_1%20.csv\",\n",
        "    'Tienda 2': \"https://raw.githubusercontent.com/alura-es-cursos/challenge1-data-science-latam/refs/heads/main/base-de-datos-challenge1-latam/tienda_2.csv\",\n",
        "    'Tienda 3': \"https://raw.githubusercontent.com/alura-es-cursos/challenge1-data-science-latam/refs/heads/main/base-de-datos-challenge1-latam/tienda_3.csv\",\n",
        "    'Tienda 4': \"https://raw.githubusercontent.com/alura-es-cursos/challenge1-data-science-latam/refs/heads/main/base-de-datos-challenge1-latam/tienda_4.csv\"\n",
        "}\n",
        "\n",
        "# Creamos lista para almacenar los DataFrames\n",
        "dfs = []\n",
        "\n",
        "for nombre_tienda, url in urls.items():\n",
        "    df = pd.read_csv(url)\n",
        "    df.insert(0, 'Tienda', nombre_tienda)  # Agregar columna con nombre de tienda\n",
        "    dfs.append(df)\n",
        "\n",
        "# Combinar todos los DataFrames\n",
        "tiendas_completo = pd.concat(dfs, ignore_index=True)\n",
        "\n",
        "# Verificamos el resultado\n",
        "print(tiendas_completo.head())"
      ]
    },
    {
      "cell_type": "code",
      "execution_count": 167,
      "metadata": {
        "id": "qoyjqijQZHfF"
      },
      "outputs": [
        {
          "name": "stdout",
          "output_type": "stream",
          "text": [
            "\n",
            "Productos más vendidos por tienda:\n",
            "       Tienda                   Producto  Cantidad\n",
            "1    Tienda 1                    Armario        60\n",
            "75   Tienda 2  Iniciando en programación        65\n",
            "129  Tienda 3              Kit de bancas        57\n",
            "163  Tienda 4                   Cama box        62\n"
          ]
        }
      ],
      "source": [
        "# Producto más vendido\n",
        "productos_mas_vendidos = (tiendas_completo\n",
        "                         .groupby(['Tienda', 'Producto'])\n",
        "                         .size()\n",
        "                         .reset_index(name='Cantidad')\n",
        "                         .sort_values(['Tienda', 'Cantidad'], ascending=[True, False])\n",
        "                         .groupby('Tienda')\n",
        "                         .head(1))\n",
        "\n",
        "print(\"\\nProductos más vendidos por tienda:\")\n",
        "print(productos_mas_vendidos[['Tienda', 'Producto', 'Cantidad']])"
      ]
    },
    {
      "cell_type": "code",
      "execution_count": 168,
      "metadata": {
        "id": "0Sw3sd4IZIGW"
      },
      "outputs": [
        {
          "name": "stdout",
          "output_type": "stream",
          "text": [
            "\n",
            "Productos menos vendidos por tienda:\n",
            "       Tienda                   Producto  Cantidad\n",
            "4    Tienda 1  Auriculares con micrófono        33\n",
            "77   Tienda 2              Juego de mesa        32\n",
            "111  Tienda 3    Bloques de construcción        35\n",
            "175  Tienda 4         Guitarra eléctrica        33\n"
          ]
        }
      ],
      "source": [
        "# producto menos vendido\n",
        "productos_menos_vendidos = (tiendas_completo\n",
        "                            .groupby(['Tienda', 'Producto'])\n",
        "                            .size()\n",
        "                            .reset_index(name='Cantidad')\n",
        "                            .sort_values(['Tienda', 'Cantidad'], ascending=[True, True])\n",
        "                            .groupby('Tienda')\n",
        "                            .head(1))\n",
        "\n",
        "print(\"\\nProductos menos vendidos por tienda:\")\n",
        "print(productos_menos_vendidos[['Tienda', 'Producto', 'Cantidad']])"
      ]
    },
    {
      "cell_type": "markdown",
      "metadata": {},
      "source": [
        "## Gráfica de productos más vendidos"
      ]
    },
    {
      "cell_type": "code",
      "execution_count": 172,
      "metadata": {},
      "outputs": [
        {
          "data": {
            "image/png": "[encoded data removed]",
            "text/plain": [
              "<Figure size 800x500 with 1 Axes>"
            ]
          },
          "metadata": {},
          "output_type": "display_data"
        }
      ],
      "source": [
        "# Configuración del gráfico\n",
        "plt.figure(figsize=(8, 5))\n",
        "colors = plt.cm.Set2.colors[:len(productos_mas_vendidos)]\n",
        "\n",
        "# Gráfico de barras\n",
        "bars = plt.bar(productos_mas_vendidos['Tienda'], \n",
        "               productos_mas_vendidos['Cantidad'],\n",
        "               color=colors)\n",
        "\n",
        "# Añadimos etiquetas\n",
        "for bar, (_, row) in zip(bars, productos_mas_vendidos.iterrows()):\n",
        "    plt.text(bar.get_x() + bar.get_width()/2, \n",
        "             bar.get_height(),\n",
        "             f\"{row['Producto']}\\n{row['Cantidad']}\",\n",
        "             ha='center', \n",
        "             va='bottom',\n",
        "             fontsize=10)\n",
        "\n",
        "# Personalización del  gráfico\n",
        "plt.title('Productos más vendidos por tienda', fontsize=14, pad=20,  weight='bold')\n",
        "#plt.xlabel('Tienda', fontsize=12)\n",
        "plt.ylabel('Unidades vendidas', fontsize=12)\n",
        "plt.grid(axis='y', alpha=0.3)\n",
        "\n",
        "# Elimina las barras de los bordes\n",
        "for spine in plt.gca().spines.values():\n",
        "    spine.set_visible(False)\n",
        "\n",
        "plt.tight_layout()\n",
        "plt.show()"
      ]
    },
    {
      "cell_type": "markdown",
      "metadata": {},
      "source": [
        "## Gráfico de productos menos vendidos"
      ]
    },
    {
      "cell_type": "code",
      "execution_count": 173,
      "metadata": {},
      "outputs": [
        {
          "data": {
            "image/png": "[encoded data removed]",
            "text/plain": [
              "<Figure size 800x500 with 1 Axes>"
            ]
          },
          "metadata": {},
          "output_type": "display_data"
        }
      ],
      "source": [
        "\n",
        "#Configuración del gráfico\n",
        "plt.figure(figsize=(8, 5))\n",
        "colors = plt.cm.Set2.colors[:len(productos_mas_vendidos)]\n",
        "\n",
        "# Gráfico de barras\n",
        "bars = plt.bar(productos_menos_vendidos['Tienda'], \n",
        "               productos_menos_vendidos['Cantidad'],\n",
        "               color=colors)\n",
        "\n",
        "# Añadimos etiquetas\n",
        "for bar, (_, row) in zip(bars, productos_menos_vendidos.iterrows()):\n",
        "    plt.text(bar.get_x() + bar.get_width()/2, \n",
        "             bar.get_height(),\n",
        "             f\"{row['Producto']}\\n{row['Cantidad']}\",\n",
        "             ha='center', \n",
        "             va='bottom',\n",
        "             fontsize=10)\n",
        "\n",
        "# Personalización del  gráfico\n",
        "plt.title('Productos menos vendidos por tienda', fontsize=14, weight='bold', pad=20)\n",
        "#plt.xlabel('Tienda', fontsize=12)\n",
        "plt.ylabel('Unidades vendidas', fontsize=12)\n",
        "plt.grid(axis='y', alpha=0.3)\n",
        "\n",
        "# Elimina las barras de los bordes\n",
        "for spine in plt.gca().spines.values():\n",
        "    spine.set_visible(False)\n",
        "\n",
        "plt.tight_layout()\n",
        "plt.show()"
      ]
    },
    {
      "cell_type": "markdown",
      "metadata": {
        "id": "Fl0cGi3bZKqU"
      },
      "source": [
        "# 5. Envío promedio por tienda"
      ]
    },
    {
      "cell_type": "code",
      "execution_count": null,
      "metadata": {
        "id": "S2JeaCykZNy9"
      },
      "outputs": [],
      "source": []
    },
    {
      "cell_type": "code",
      "execution_count": null,
      "metadata": {
        "id": "0tSdCie9ZQlt"
      },
      "outputs": [],
      "source": []
    }
  ],
  "metadata": {
    "colab": {
      "provenance": []
    },
    "kernelspec": {
      "display_name": "Python 3",
      "name": "python3"
    },
    "language_info": {
      "codemirror_mode": {
        "name": "ipython",
        "version": 3
      },
      "file_extension": ".py",
      "mimetype": "text/x-python",
      "name": "python",
      "nbconvert_exporter": "python",
      "pygments_lexer": "ipython3",
      "version": "3.11.9"
    }
  },
  "nbformat": 4,
  "nbformat_minor": 0
}
